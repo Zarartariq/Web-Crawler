{
 "cells": [
  {
   "cell_type": "markdown",
   "metadata": {},
   "source": [
    "# Crawler\n",
    "\n",
    "This notebook contains started code structure for creating a crawler on single machine\n",
    "\n",
    "**Author:** Noshaba Nasir\n",
    "\n",
    "**Date:** 26/3/2021\n",
    "\n",
    "**Updated by:** <Write your name and Roll number here>\n",
    "    "
   ]
  },
  {
   "cell_type": "code",
   "execution_count": 1,
   "metadata": {},
   "outputs": [
    {
     "ename": "ModuleNotFoundError",
     "evalue": "No module named 'tld'",
     "output_type": "error",
     "traceback": [
      "\u001b[1;31m---------------------------------------------------------------------------\u001b[0m",
      "\u001b[1;31mModuleNotFoundError\u001b[0m                       Traceback (most recent call last)",
      "\u001b[1;32m<ipython-input-1-60dd42163952>\u001b[0m in \u001b[0;36m<module>\u001b[1;34m\u001b[0m\n\u001b[0;32m      1\u001b[0m \u001b[1;32mimport\u001b[0m \u001b[0mos\u001b[0m\u001b[1;33m\u001b[0m\u001b[1;33m\u001b[0m\u001b[0m\n\u001b[0;32m      2\u001b[0m \u001b[1;32mimport\u001b[0m \u001b[0mrandom\u001b[0m\u001b[1;33m\u001b[0m\u001b[1;33m\u001b[0m\u001b[0m\n\u001b[1;32m----> 3\u001b[1;33m \u001b[1;32mfrom\u001b[0m \u001b[0mtld\u001b[0m \u001b[1;32mimport\u001b[0m \u001b[0mget_tld\u001b[0m\u001b[1;33m\u001b[0m\u001b[1;33m\u001b[0m\u001b[0m\n\u001b[0m\u001b[0;32m      4\u001b[0m \u001b[1;32mfrom\u001b[0m \u001b[0madvertools\u001b[0m \u001b[1;32mimport\u001b[0m \u001b[0mrobotstxt_test\u001b[0m\u001b[1;33m\u001b[0m\u001b[1;33m\u001b[0m\u001b[0m\n\u001b[0;32m      5\u001b[0m \u001b[1;32mfrom\u001b[0m \u001b[0murllib\u001b[0m\u001b[1;33m.\u001b[0m\u001b[0mparse\u001b[0m \u001b[1;32mimport\u001b[0m \u001b[0murlsplit\u001b[0m\u001b[1;33m,\u001b[0m \u001b[0murlunsplit\u001b[0m\u001b[1;33m\u001b[0m\u001b[1;33m\u001b[0m\u001b[0m\n",
      "\u001b[1;31mModuleNotFoundError\u001b[0m: No module named 'tld'"
     ]
    }
   ],
   "source": [
    "import os \n",
    "import random\n",
    "from tld import get_tld\n",
    "from advertools import robotstxt_test\n",
    "from urllib.parse import urlsplit, urlunsplit\n",
    "from bs4 import BeautifulSoup\n",
    "import requests\n",
    "import requests.exceptions\n",
    "import threading\n",
    "import datetime\n",
    "import time\n",
    "# Add any library to be imported here"
   ]
  },
  {
   "cell_type": "code",
   "execution_count": 2,
   "metadata": {},
   "outputs": [],
   "source": [
    "# Crawler Parameters\n",
    "BACKQUEUES= 3\n",
    "THREADS= BACKQUEUES*3\n",
    "FRONTQUEUES= 5\n",
    "WAITTIME= 15 ; # wait 15 seconds before fetching URLS from \n",
    "front = None\n",
    "Links=[]\n",
    "# Add any other global parameters here"
   ]
  },
  {
   "cell_type": "markdown",
   "metadata": {},
   "source": [
    "# FRONTIER\n",
    "\n",
    "Frontier should use the Mercator frontier design as discussed in lecture.\n",
    "\n",
    "Preferably it should be a class and should have the given functions.\n",
    "\n",
    "*prioritizer* function is a stub right now, it will return a random number  between 1 to f for given URL "
   ]
  },
  {
   "cell_type": "code",
   "execution_count": 3,
   "metadata": {},
   "outputs": [],
   "source": [
    "def getTime(obj):\n",
    "    return obj[\"time\"]"
   ]
  },
  {
   "cell_type": "code",
   "execution_count": 4,
   "metadata": {
    "scrolled": true
   },
   "outputs": [],
   "source": [
    "class frontier:\n",
    "# add the code for frontier here\n",
    "# should have functions __init__, get_URL, add_URLs, add_to_backqueue\n",
    "    def __init__(self):\n",
    "        '''\n",
    "        Initializer\n",
    "        '''\n",
    "        self.front = []\n",
    "        self.back = []\n",
    "        for i in range(FRONTQUEUES):\n",
    "            self.front.append([])\n",
    "        for i in range(BACKQUEUES):\n",
    "            self.back.append({\"time\":datetime.datetime.now(),\"list\":[]})\n",
    "        self.seed= [\"https://docs.oracle.com/en/\",\"https://www.oracle.com/corporate/\",\"https://en.wikipedia.org/wiki/Machine_learning\",\"https://www.csie.ntu.edu.tw/~cjlin/libsvm/index.html\",\"https://www.csie.ntu.edu.tw/~cjlin/libsvm/index.html\",\"https://en.wikipedia.org/w/api.php\",\"https://en.wikipedia.org/api/\",\"https://en.wikipedia.org/wiki/Weka_(machine_learning)\"]\n",
    "        for link in self.seed:\n",
    "            self.front[prioritizer(link,FRONTQUEUES)-1].append(link)\n",
    "        None # replace this with your code\n",
    "    def add_URL(self,url):\n",
    "        self.front[prioritizer(url,FRONTQUEUES)-1].append(url)\n",
    "    def add_to_backqueue(self):\n",
    "        selected = random.randint(1,FRONTQUEUES)-1\n",
    "        if len(self.front[selected]) > 0:\n",
    "            link=self.front[selected].pop(0)\n",
    "            domain = get_tld(link, as_object=True).fld\n",
    "            des = []\n",
    "            des2 = []\n",
    "            for i in range(BACKQUEUES):\n",
    "                if len(self.back[i][\"list\"]) == 0:\n",
    "                    des2.append(i)\n",
    "                elif domain in self.back[i][\"list\"][0]:\n",
    "                    des.append(i)\n",
    "            if des == [] and len(des2) >= 1:\n",
    "                self.back[des2[0]][\"list\"].append(link)\n",
    "            elif des2 == [] and len(des) >=1:\n",
    "                self.back[des[0]][\"list\"].append(link)\n",
    "            else:\n",
    "                self.front[selected].append(link)\n",
    "    def get_URL(self):\n",
    "        self.back.sort(key=getTime)\n",
    "        if self.back[0][\"time\"] > datetime.datetime.now():\n",
    "            patience=self.back[0][\"time\"] - datetime.datetime.now()\n",
    "            if patience.seconds > 0:\n",
    "                time.sleep(patience.seconds)\n",
    "                print(\"Sleeping for \"+str(patience.seconds)+\"\\n\")\n",
    "        if len(self.back[0][\"list\"]) > 0:\n",
    "            self.back[0][\"time\"]=datetime.timedelta(seconds=WAITTIME)+datetime.datetime.now()\n",
    "            return self.back[0][\"list\"].pop(0)\n",
    "        return None\n",
    "        \n",
    "\n",
    "def prioritizer(URL,f):\n",
    "    \"\"\"\n",
    "    Take URL and returns priority from 1 to F\n",
    "    Right now it like a stub function. \n",
    "    It will return a random number from 1 to f for given inputs. \n",
    "    \"\"\"\n",
    "    return random.randint(1,f)\n",
    "    "
   ]
  },
  {
   "cell_type": "markdown",
   "metadata": {},
   "source": [
    "# FILTER URLS\n",
    "\n",
    "Filter the URLS that are in robots.txt files of server and the have been already processed. "
   ]
  },
  {
   "cell_type": "code",
   "execution_count": 5,
   "metadata": {},
   "outputs": [],
   "source": [
    "# write code for filtering urls here \n",
    "def filter_url(url):\n",
    "    try:\n",
    "        parts = urlsplit(url)\n",
    "        base = \"{0.scheme}://{0.netloc}\".format(parts)\n",
    "        return not robotstxt_test(base+'/robots.txt', user_agents=['*'], urls=[url])[\"can_fetch\"].values[0]\n",
    "    except:\n",
    "        return False"
   ]
  },
  {
   "cell_type": "markdown",
   "metadata": {},
   "source": [
    "## ---------------------Write any other codes/data require to run the crawler above this cell-----------"
   ]
  },
  {
   "cell_type": "markdown",
   "metadata": {},
   "source": [
    "# Run Crawler"
   ]
  },
  {
   "cell_type": "code",
   "execution_count": 6,
   "metadata": {},
   "outputs": [],
   "source": [
    "# Theard task\n",
    "def crawler_thread_task():\n",
    "    global front\n",
    "    url = front.get_URL()\n",
    "    if url:\n",
    "        Links.append(url)\n",
    "        front.add_to_backqueue()\n",
    "        print(\" reached \"+url+\"\\n\")\n",
    "        req = requests.get(url)\n",
    "        res = BeautifulSoup(req.content, 'html.parser')\n",
    "        urls = res.find_all('a',href=True)\n",
    "        urls=[a['href'] for a in urls if 'http' in a['href'] or a['href'][0] == \"/\"]\n",
    "        parts = urlsplit(url)\n",
    "        base = \"{0.scheme}://{0.netloc}\".format(parts)      \n",
    "        urls=[a  if 'http' in a else base+a for a in urls]\n",
    "        urls=[a for a in urls if not filter_url(a)]\n",
    "        for url in urls:\n",
    "            try:\n",
    "                r = requests.head(url)\n",
    "                if \"text/html\" in r.headers[\"content-type\"]:\n",
    "                    front.add_URL(url)\n",
    "            except:\n",
    "                front.add_to_backqueue()\n",
    "                pass\n",
    "    front.add_to_backqueue()\n",
    "    None # define individual crawler thread's function here as studies in class"
   ]
  },
  {
   "cell_type": "code",
   "execution_count": 7,
   "metadata": {},
   "outputs": [
    {
     "name": "stdout",
     "output_type": "stream",
     "text": [
      " reached https://en.wikipedia.org/wiki/Machine_learning\n",
      "\n",
      " reached https://www.csie.ntu.edu.tw/~cjlin/libsvm/index.html\n",
      "\n",
      " reached https://www.oracle.com/corporate/\n",
      "\n",
      "Sleeping for 14\n",
      "Sleeping for 14\n",
      "Sleeping for 14\n",
      "\n",
      "\n",
      " reached https://en.wikipedia.org/wiki/Weka_(machine_learning)\n",
      "\n",
      " reached https://en.wikipedia.org/api/\n",
      "\n",
      "\n",
      " reached https://en.wikipedia.org/w/api.php\n",
      "Sleeping for 14\n",
      "Sleeping for 14\n",
      "Sleeping for 14\n",
      "\n",
      "\n",
      "\n",
      "\n",
      " reached https://www.csie.ntu.edu.tw/~cjlin/libsvm/index.html\n",
      "\n",
      " reached https://docs.oracle.com/en/\n",
      "\n",
      "Sleeping for 13\n",
      "\n",
      "Sleeping for 13\n",
      "Sleeping for 13\n",
      "Sleeping for 13\n",
      "Sleeping for 13\n",
      "\n",
      "Sleeping for 13\n",
      "\n",
      " reached https://foundation.wikimedia.org/wiki/Developer_app_guidelines\n",
      "\n",
      "\n",
      "Sleeping for 13\n",
      "\n",
      "\n",
      "\n"
     ]
    },
    {
     "ename": "KeyboardInterrupt",
     "evalue": "",
     "output_type": "error",
     "traceback": [
      "\u001b[1;31m---------------------------------------------------------------------------\u001b[0m",
      "\u001b[1;31mKeyboardInterrupt\u001b[0m                         Traceback (most recent call last)",
      "\u001b[1;32m<ipython-input-7-2c7e8bcbf858>\u001b[0m in \u001b[0;36m<module>\u001b[1;34m\u001b[0m\n\u001b[0;32m      5\u001b[0m         \u001b[0mthread\u001b[0m \u001b[1;33m=\u001b[0m \u001b[0mthreading\u001b[0m\u001b[1;33m.\u001b[0m\u001b[0mThread\u001b[0m\u001b[1;33m(\u001b[0m\u001b[0mtarget\u001b[0m\u001b[1;33m=\u001b[0m\u001b[0mcrawler_thread_task\u001b[0m\u001b[1;33m)\u001b[0m\u001b[1;33m\u001b[0m\u001b[0m\n\u001b[0;32m      6\u001b[0m         \u001b[0mthread\u001b[0m\u001b[1;33m.\u001b[0m\u001b[0mstart\u001b[0m\u001b[1;33m(\u001b[0m\u001b[1;33m)\u001b[0m\u001b[1;33m\u001b[0m\u001b[0m\n\u001b[1;32m----> 7\u001b[1;33m     \u001b[0mtime\u001b[0m\u001b[1;33m.\u001b[0m\u001b[0msleep\u001b[0m\u001b[1;33m(\u001b[0m\u001b[0mWAITTIME\u001b[0m\u001b[1;33m)\u001b[0m\u001b[1;33m\u001b[0m\u001b[0m\n\u001b[0m",
      "\u001b[1;31mKeyboardInterrupt\u001b[0m: "
     ]
    }
   ],
   "source": [
    "# intialize every thing\n",
    "front = frontier()\n",
    "while len(Links) < 1001:\n",
    "    for i in range(THREADS):\n",
    "        thread = threading.Thread(target=crawler_thread_task)\n",
    "        thread.start()\n",
    "    time.sleep(WAITTIME)"
   ]
  },
  {
   "cell_type": "markdown",
   "metadata": {},
   "source": [
    "## ------------------------------------------------------End of Notebook---------------------------------------------------"
   ]
  }
 ],
 "metadata": {
  "kernelspec": {
   "display_name": "Python 3",
   "language": "python",
   "name": "python3"
  },
  "language_info": {
   "codemirror_mode": {
    "name": "ipython",
    "version": 3
   },
   "file_extension": ".py",
   "mimetype": "text/x-python",
   "name": "python",
   "nbconvert_exporter": "python",
   "pygments_lexer": "ipython3",
   "version": "3.7.3"
  }
 },
 "nbformat": 4,
 "nbformat_minor": 4
}
